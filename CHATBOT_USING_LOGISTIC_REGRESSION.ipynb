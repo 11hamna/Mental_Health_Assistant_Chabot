{
  "nbformat": 4,
  "nbformat_minor": 0,
  "metadata": {
    "colab": {
      "provenance": []
    },
    "kernelspec": {
      "name": "python3",
      "display_name": "Python 3"
    },
    "language_info": {
      "name": "python"
    }
  },
  "cells": [
    {
      "cell_type": "markdown",
      "source": [
        "# MENTAL HEALTH HELP CHATBOT USING LOGISTIC REGRESSION\n",
        "UPLOADING DATASET FROM THE DEVICE(which I downloaded from Kaggle)\n",
        
        "\n"
      ],
      "metadata": {
        "id": "p4hrNksv6AjY"
      }
    },
    {
      "cell_type": "code",
      "execution_count": null,
      "metadata": {
        "id": "7bVz5YkHiIqs"
      },
      "outputs": [],
      "source": [
        "from google.colab import files\n",
        "\n",
        "\n",
        "uploaded = files.upload()"
      ]
    },
    {
      "cell_type": "markdown",
      "source": [
        "READING DATASET FILE WHICH IS IN JSON FORMAT WITH THE HELP OF PANDAS\n"
      ],
      "metadata": {
        "id": "TLdWwzWW6PJE"
      }
    },
    {
      "cell_type": "code",
      "source": [
        "import pandas as pd\n",
        "data= pd.read_json('intents.json')"
      ],
      "metadata": {
        "id": "d_3wg5MOjRi4"
      },
      "execution_count": null,
      "outputs": []
    },
    {
      "cell_type": "code",
      "source": [
        "print(data)"
      ],
      "metadata": {
        "colab": {
          "base_uri": "https://localhost:8080/"
        },
        "id": "ndXkWs36jw_g",
        "outputId": "18793190-d227-4a9b-8cc3-125fe3ada681"
      },
      "execution_count": null,
      "outputs": [
        {
          "output_type": "stream",
          "name": "stdout",
          "text": [
            "                                              intents\n",
            "0   {'tag': 'greeting', 'patterns': ['Hi', 'Hey', ...\n",
            "1   {'tag': 'morning', 'patterns': ['Good morning'...\n",
            "2   {'tag': 'afternoon', 'patterns': ['Good aftern...\n",
            "3   {'tag': 'evening', 'patterns': ['Good evening'...\n",
            "4   {'tag': 'night', 'patterns': ['Good night'], '...\n",
            "..                                                ...\n",
            "75  {'tag': 'fact-28', 'patterns': ['What do I do ...\n",
            "76  {'tag': 'fact-29', 'patterns': ['How do I know...\n",
            "77  {'tag': 'fact-30', 'patterns': ['How can I mai...\n",
            "78  {'tag': 'fact-31', 'patterns': ['What's the di...\n",
            "79  {'tag': 'fact-32', 'patterns': ['What's the di...\n",
            "\n",
            "[80 rows x 1 columns]\n"
          ]
        }
      ]
    },
    {
      "cell_type": "markdown",
      "source": [
        "EXTRACTING INDEPENDENT AND DEPENDENT VARIABLE FROM FILE IN LIST FORMAT"
      ],
      "metadata": {
        "id": "iHKzfzCX67lm"
      }
    },
    {
      "cell_type": "code",
      "source": [
        "\n",
        "\n",
        "corpus = [pattern.lower() for item in data['intents'] for pattern in item['patterns']]\n",
        "tags = [item['tag'] for item in data['intents']  for pattern in item['patterns']]\n",
        "print(corpus)\n",
        "print(tags)\n"
      ],
      "metadata": {
        "id": "JfnssOaIoshD",
        "colab": {
          "base_uri": "https://localhost:8080/"
        },
        "outputId": "f860308d-bfde-464a-baba-c55973b049ce"
      },
      "execution_count": null,
      "outputs": [
        {
          "output_type": "stream",
          "name": "stdout",
          "text": [
            "['hi', 'hey', 'is anyone there?', 'hi there', 'hello', 'hey there', 'howdy', 'hola', 'bonjour', 'konnichiwa', 'guten tag', 'ola', 'good morning', 'good afternoon', 'good evening', 'good night', 'bye', 'see you later', 'goodbye', 'au revoir', 'sayonara', 'ok bye', 'bye then', 'fare thee well', 'thanks', 'thank you', \"that's helpful\", 'thanks for the help', 'than you very much', '', 'nothing much', 'who are you?', 'what are you?', 'who you are?', 'tell me more about yourself.', 'what is your name?', 'what should i call you?', \"what's your name?\", 'tell me about yourself', 'what can you do?', 'who created you?', 'how were you made?', 'how were you created?', 'my name is ', 'i am name.', 'i go by ', 'could you help me?', 'give me a hand please', 'can you help?', 'what can you do for me?', 'i need support', 'i need help', 'support me please', 'i am feeling lonely', 'i am so lonely', 'i feel down', 'i feel sad', 'i am sad', 'i feel so lonely', 'i feel empty', \"i don't have anyone\", 'i am so stressed out', 'i am so stressed', 'i feel stuck', 'i still feel stressed', 'i am so burned out', 'i feel so worthless.', 'no one likes me.', \"i can't do anything.\", 'i am so useless', 'nothing makes sense anymore', \"i can't take it anymore\", 'i am so depressed', \"i think i'm depressed.\", 'i have depression', 'i feel great today.', 'i am happy.', 'i feel happy.', \"i'm good.\", 'cheerful', \"i'm fine\", 'i feel ok', 'oh i see.', 'ok', 'okay', 'nice', 'whatever', 'k', 'fine', 'yeah', 'yes', 'no', 'not really', 'i feel so anxious.', \"i'm so anxious because of \", \"i don't want to talk about it.\", 'no just stay away.', \"i can't bring myself to open up.\", 'just shut up', 'i have insominia', 'i am suffering from insomnia', \"i can't sleep.\", \"i haven't slept for the last days.\", \"i can't seem to go to sleep.\", \"i haven't had proper sleep for the past few days.\", \"i'm scared\", 'that sounds awful. what do i do?', \"no i don't want to feel this way\", 'i am scared for myself', 'my mom died', 'my brother died', 'my dad passed away', 'my sister passed away', 'someone in my family died', 'my friend passed away', \"you don't understand me.\", \"you're just some robot. how would you know?\", \"you can't possibly know what i'm going through\", \"you're useless\", \"you can't help me\", 'nobody understands me.', \"that's all.\", \"i don't have anything more to say\", 'nothing else', \"that's all i have to say\", 'no, that would be all', 'i want to kill myself', \"i've thought about killing myself.\", 'i want to die', 'i am going to kill myself', 'i am going to commit suicide', 'i hate you', \"i don't like you\", \"i don't trust you\", 'you hate me', 'i know you hate me', \"you don't like me\", 'exams', 'friends', 'relationship', 'boyfriend', 'girlfriend', 'family', 'money', 'financial problems', 'tell me a joke', 'tell me another joke', 'you already told me that', 'you mentioned that already', 'why are you repeating yourself?', 'what are you saying?', \"that doesn't make sense\", 'wrong response', 'wrong answer', 'are you stupid?', \"you're crazy\", 'you are dumb', 'are you dumb?', 'where are you?', 'where do you live?', 'what is your location?', 'i want to talk about something else', \"let's talk about something else.\", 'can we not talk about this?', \"i don't want to talk about this.\", \"i don't have any friends\", 'can i ask you something?', \"probably because my exams are approaching. i feel stressed out because i don't think i've prepared well enough.\", 'probably because of my exams', 'i guess not. all i can think about are my exams.', 'not really', 'i guess not', 'ok sure. i would like to learn more about it.', 'yes, i would like to learn more about it.', 'i would like to learn more about it.', \"yeah you're right. i deserve a break.\", \"yeah you're absolutely right about that\", 'hmmm that sounds like it could be useful to me.', 'that sounds useful.', 'i did what you said and i feel alot better. thank you very much.', 'i feel better now', \"thank you very much again. i'll continue practicing meditation and focus on what i can control.\", 'i want some advice.', 'i need some advice.', 'i need advice on something', 'i want to learn about mental health.', 'i want to learn more about mental health.', \"i'm interested in learning about mental health.\", 'tell me a fact about mental health', 'tell me another fact about mental health', 'what is mental health?', 'define mental health', 'why is mental health important?', 'what is the importance of mental health?', 'what is depression?', 'define depression', 'how do i know if i have depression?', 'am i depressed?', 'am i suffering from depression?', 'am i mentally ill?', 'what is a therapist?', 'what does a therapist do?', 'what is therapy?', 'do i need therapy?', 'who is therapy for?', 'what does it mean to have a mental illness?', 'who does mental illness affect?', 'what causes mental illness?', 'what are some of the warning signs of mental illness?', 'can people with mental illness recover?', 'what should i do if i know someone who appears to have the symptoms of a mental disorder?', 'how can i find a mental health professional for myself or my child?', 'what treatment options are available?', 'if i become involved in treatment, what do i need to know?', 'what is the difference between mental health professionals?', 'how can i find a mental health professional right for my child or myself?', 'where else can i get help?', 'what should i know before starting a new medication?', 'where can i go to find therapy?', 'where can i learn about types of mental health treatment?', 'what are the different types of mental health professionals?', 'where can i go to find a support group?', 'can you prevent mental health problems?', 'are there cures for mental health problems?', 'is there any cure for mental health problems?', 'what causes mental health problems?', \"what do i do if i'm worried about my mental health?\", \"how do i know if i'm unwell?\", 'how can i maintain social connections? what if i feel lonely?', \"what's the difference between anxiety and stress?\", \"what's the difference between sadness and depression?\", 'difference between sadness and depression']\n",
            "['greeting', 'greeting', 'greeting', 'greeting', 'greeting', 'greeting', 'greeting', 'greeting', 'greeting', 'greeting', 'greeting', 'greeting', 'morning', 'afternoon', 'evening', 'night', 'goodbye', 'goodbye', 'goodbye', 'goodbye', 'goodbye', 'goodbye', 'goodbye', 'goodbye', 'thanks', 'thanks', 'thanks', 'thanks', 'thanks', 'no-response', 'neutral-response', 'about', 'about', 'about', 'about', 'about', 'about', 'about', 'about', 'skill', 'creation', 'creation', 'creation', 'name', 'name', 'name', 'help', 'help', 'help', 'help', 'help', 'help', 'help', 'sad', 'sad', 'sad', 'sad', 'sad', 'sad', 'sad', 'sad', 'stressed', 'stressed', 'stressed', 'stressed', 'stressed', 'worthless', 'worthless', 'worthless', 'worthless', 'worthless', 'depressed', 'depressed', 'depressed', 'depressed', 'happy', 'happy', 'happy', 'happy', 'happy', 'happy', 'happy', 'casual', 'casual', 'casual', 'casual', 'casual', 'casual', 'casual', 'casual', 'casual', 'casual', 'casual', 'anxious', 'anxious', 'not-talking', 'not-talking', 'not-talking', 'not-talking', 'sleep', 'sleep', 'sleep', 'sleep', 'sleep', 'sleep', 'scared', 'scared', 'scared', 'scared', 'death', 'death', 'death', 'death', 'death', 'death', 'understand', 'understand', 'understand', 'understand', 'understand', 'understand', 'done', 'done', 'done', 'done', 'done', 'suicide', 'suicide', 'suicide', 'suicide', 'suicide', 'hate-you', 'hate-you', 'hate-you', 'hate-me', 'hate-me', 'hate-me', 'default', 'default', 'default', 'default', 'default', 'default', 'default', 'default', 'jokes', 'jokes', 'repeat', 'repeat', 'repeat', 'wrong', 'wrong', 'wrong', 'wrong', 'stupid', 'stupid', 'stupid', 'stupid', 'location', 'location', 'location', 'something-else', 'something-else', 'something-else', 'something-else', 'friends', 'ask', 'problem', 'problem', 'no-approach', 'no-approach', 'no-approach', 'learn-more', 'learn-more', 'learn-more', 'user-agree', 'user-agree', 'meditation', 'meditation', 'user-meditation', 'user-meditation', 'pandora-useful', 'user-advice', 'user-advice', 'user-advice', 'learn-mental-health', 'learn-mental-health', 'learn-mental-health', 'mental-health-fact', 'mental-health-fact', 'fact-1', 'fact-1', 'fact-2', 'fact-2', 'fact-3', 'fact-3', 'fact-5', 'fact-5', 'fact-5', 'fact-5', 'fact-6', 'fact-6', 'fact-7', 'fact-7', 'fact-7', 'fact-8', 'fact-9', 'fact-10', 'fact-11', 'fact-12', 'fact-13', 'fact-14', 'fact-15', 'fact-16', 'fact-17', 'fact-18', 'fact-19', 'fact-20', 'fact-21', 'fact-22', 'fact-23', 'fact-24', 'fact-25', 'fact-26', 'fact-26', 'fact-27', 'fact-28', 'fact-29', 'fact-30', 'fact-31', 'fact-32', 'fact-32']\n"
          ]
        }
      ]
    },
    {
      "cell_type": "markdown",
      "source": [
        "METHODS TO MAKE TOKENS OF UNIQUE WORDS"
      ],
      "metadata": {
        "id": "YDymiIip7N2p"
      }
    },
    {
      "cell_type": "code",
      "source": [
        "\n",
        "import re\n",
        "import numpy as np\n",
        "\n",
        "\n",
        "def tokenizer(text):\n",
        "  return set(re.findall('\\w+',text.lower()))\n",
        "\n",
        "\n",
        "def create_bag_of_words(corpus):\n",
        "   bag_of_words = list(set([word for sentence in corpus for word in tokenizer(sentence)]))\n",
        "   return bag_of_words\n",
        "\n",
        "\n"
      ],
      "metadata": {
        "id": "1vF6Gh3euO5a"
      },
      "execution_count": null,
      "outputs": []
    },
    {
      "cell_type": "markdown",
      "source": [
        "# CONVERTING TRAINING DATA TEXT INTO NUMERICAL VECTORS\n",
        "In the training_data() function, the Y labels are one-hot encoded using the following code.\n",
        "This creates a binary label vector where the i-th element is 1 if the corresponding sentence belongs to the i-th tag, and 0 otherwise.\n",
        "\n"
      ],
      "metadata": {
        "id": "3WlLhTN77YnK"
      }
    },
    {
      "cell_type": "code",
      "source": [
        "\n",
        "\n",
        "def training_data(corpus,tags,bag_of_words):\n",
        "  X = []\n",
        "  Y = []\n",
        "\n",
        "  for i,sentence in enumerate(corpus):\n",
        "    bag_vector = np.zeros(len(bag_of_words),dtype=np.float32)\n",
        "    sentence_words = tokenizer(sentence)\n",
        "    for word in sentence_words:\n",
        "      if word in bag_of_words:\n",
        "        bag_vector[bag_of_words.index(word)]+=1\n",
        "    X.append(bag_vector)\n",
        "    label = np.zeros(len(tags), dtype=np.float32)\n",
        "    label[tags.index(tags[i])] = 1.0\n",
        "    Y.append(label)\n",
        "  return np.array(X), np.array(Y)\n",
        "\n",
        "\n",
        "\n"
      ],
      "metadata": {
        "id": "Ynejpwah46zr"
      },
      "execution_count": null,
      "outputs": []
    },
    {
      "cell_type": "markdown",
      "source": [
        "SPLITTING DATA INTO TRAINING AND TESTING\n"
      ],
      "metadata": {
        "id": "zPuUeTxA-5oq"
      }
    },
    {
      "cell_type": "code",
      "source": [
        "\n",
        "import random\n",
        "def split_data(X,Y):\n",
        "  random.seed()\n",
        "  data = list(zip(X,Y))\n",
        "  test_ratio = int(0.8 * len(data))\n",
        "  train_data =data[:test_ratio]\n",
        "  test_data = data[test_ratio:]\n",
        "  X_train,Y_train = zip(*train_data)\n",
        "  X_test,Y_test = zip(*test_data)\n",
        "  return X_train, X_test, Y_train, Y_test\n"
      ],
      "metadata": {
        "id": "_8XhSGBJCRBx"
      },
      "execution_count": null,
      "outputs": []
    },
    {
      "cell_type": "markdown",
      "source": [
        "# IMPLEMENTATION OF LOGISTIC REGRESSION (ONE VS ALL APPROACCH)\n",
        "\n",
        "Then, in the training loop, the sigmoid function is used to compute the probability of belonging to each class.Finally, the tag with the highest probability is selected using the argmax function,This approach is also known as the one-vs-rest or one-vs-others approach, where each class is considered separately against all the other classes."
      ],
      "metadata": {
        "id": "NVTE_hUQ-_jw"
      }
    },
    {
      "cell_type": "code",
      "source": [
        "bag_of_words = create_bag_of_words(corpus)\n",
        "\n",
        "X_train, Y_train = training_data(corpus, tags, bag_of_words)\n",
        "X_train, X_test, Y_train, Y_test = split_data(X_train, Y_train)\n",
        "\n",
        "\n",
        "## Implement logistic regression\n",
        "learning_rate =0.1\n",
        "iteration = 10000\n",
        "no_of_features = len(bag_of_words)\n",
        "no_of_classes = len(tags)\n",
        "\n",
        "\n",
        "# Initialize weights\n",
        "weights = np.zeros((no_of_features,no_of_classes),dtype= np.float32)\n",
        "biases = np.zeros((1,no_of_classes),dtype= np.float32)\n",
        "\n",
        "losses =[]\n",
        "\n",
        "# Train the model\n",
        "for i in range(iteration):\n",
        "  z= np.dot(X_train, weights) + biases\n",
        "  sigmoid = 1 / (1 + np.exp(-z))\n",
        "\n",
        "  loss = sigmoid - Y_train\n",
        "  derv_wrt_weight = 1 / len(X_train) * np.dot(np.array(X_train).T, loss)\n",
        "  derv_wrt_bias = 1 / len(X_train) * np.sum(loss, axis=0, keepdims=True)\n",
        "\n",
        "  weights = weights - learning_rate*derv_wrt_weight\n",
        "  biases = biases - learning_rate * derv_wrt_bias\n",
        "  losses.append(np.mean(np.abs(loss)))\n",
        "\n",
        " # Predict tag using logistic regression model\n",
        "def prediction(sentence,bag_of_words,weights,biases):\n",
        "\n",
        "\n",
        "    # Convert user's input into numerical vector\n",
        "  bag_vector = np.zeros(len(bag_of_words),dtype = np.float32)\n",
        "  sentence_words = tokenizer(sentence)\n",
        "\n",
        "  for word in sentence_words:\n",
        "        if word in bag_of_words:\n",
        "            bag_vector[bag_of_words.index(word)] += 1\n",
        "\n",
        "  z = np.dot(bag_vector,weights) + biases\n",
        "  sigmoid = 1 /(1+ np.exp(-z))\n",
        "  tag_index = np.argmax(sigmoid)\n",
        "  tag = tags[tag_index]\n",
        "  print(tag)\n",
        "  return tag\n",
        "\n"
      ],
      "metadata": {
        "id": "Znkk39qXN_MC"
      },
      "execution_count": null,
      "outputs": []
    },
    {
      "cell_type": "markdown",
      "source": [
        "#IMPLEMENTING CHATBOT"
      ],
      "metadata": {
        "id": "C8ZC4xi3_lHA"
      }
    },
    {
      "cell_type": "code",
      "source": [
        "while True:\n",
        "    user_input = input(\"You: \")\n",
        "    if user_input.lower() == \"exit\":\n",
        "        break\n",
        "    else:\n",
        "        tag = prediction(user_input, bag_of_words, weights, biases)\n",
        "        for intent in data['intents']:\n",
        "            if intent['tag'] == tag:\n",
        "                print(\"ChatBot:\", np.random.choice(intent['responses']))\n",
        "                break"
      ],
      "metadata": {
        "colab": {
          "base_uri": "https://localhost:8080/"
        },
        "id": "n_6tuRIA46U_",
        "outputId": "928b00be-da91-4eb4-9514-ba44f3c6c5f0"
      },
      "execution_count": null,
      "outputs": [
        {
          "name": "stdout",
          "output_type": "stream",
          "text": [
            "You: hello\n",
            "greeting\n",
            "ChatBot: Hello there. Tell me how are you feeling today?\n",
            "You: i am feeling lonely\n",
            "sad\n",
            "ChatBot: Why do you think you feel this way?\n",
            "You: i feel so worthless\n",
            "worthless\n",
            "ChatBot: It's only natural to feel this way. Tell me more. What else is on your mind?\n",
            "You: I am scared for myself\n",
            "scared\n",
            "ChatBot: It'll all be okay. This feeling is only momentary.\n",
            "You: exit\n"
          ]
        }
      ]
    },
    {
      "cell_type": "markdown",
      "source": [
        "The learned model in logistic regression is based on the logistic function, which maps any input values to a value between 0 and 1, representing the probability of belonging to a certain class. In this case, the logistic function is applied to the dot product of the input features (bag-of-words) and the learned weights, added to the learned biases:\n",
        "\n",
        "# z = np.dot(bag_of_words, weights) + biases\n",
        "# sigmoid = 1 / (1 + np.exp(-z))\n",
        "\n",
        "The predicted tag is then the class with the highest probability value.\n",
        "\n",
        "To show the learning curve for this model, we can plot the loss (i.e. the difference between the predicted and actual class values) over the training iterations. Here's an example of how to do this using Matplotlib:"
      ],
      "metadata": {
        "id": "HB4I8EO6HQhz"
      }
    },
    {
      "cell_type": "code",
      "source": [
        "import matplotlib.pyplot as plt\n",
        "plt.plot(range(iteration), losses)\n",
        "plt.title(\"Training Loss\")\n",
        "plt.xlabel(\"Iteration\")\n",
        "plt.ylabel(\"Loss\")\n",
        "plt.show()\n",
        "plt.show()"
      ],
      "metadata": {
        "colab": {
          "base_uri": "https://localhost:8080/",
          "height": 472
        },
        "id": "Ijpn1QcWEFZu",
        "outputId": "00c14ffa-f071-48bb-9b34-1dcc6c0a8fb5"
      },
      "execution_count": null,
      "outputs": [
        {
          "output_type": "display_data",
          "data": {
            "text/plain": [
              "<Figure size 640x480 with 1 Axes>"
            ],
            "image/png": "iVBORw0KGgoAAAANSUhEUgAAAjcAAAHHCAYAAABDUnkqAAAAOXRFWHRTb2Z0d2FyZQBNYXRwbG90bGliIHZlcnNpb24zLjcuMSwgaHR0cHM6Ly9tYXRwbG90bGliLm9yZy/bCgiHAAAACXBIWXMAAA9hAAAPYQGoP6dpAAA/MUlEQVR4nO3deXxU1f3/8fdMJjMhZAMCCWAgCFREEJAIxg1aU9FS69avyFcF0v5oFWmlqV2oFayWBlx44IKitoiiFrVfxZYqilFssVRkrSAFFYGIJICYhS3LzPn9kcyQIWGLd+aEyev5eMwjmTPn3vuZ66Pk3XPOvddljDECAACIEW7bBQAAADiJcAMAAGIK4QYAAMQUwg0AAIgphBsAABBTCDcAACCmEG4AAEBMIdwAAICYQrgBAAAxhXADIOLGjRun7OzsZm171113yeVyOVsQgJhGuAFaMZfLdUKvpUuX2i7VinHjxikpKcl2GQBOkotnSwGt17PPPhv2/plnntGSJUs0f/78sPZvf/vbysjIaPZxampqFAgE5PP5Tnrb2tpa1dbWKiEhodnHb65x48bpL3/5i/bt2xf1YwNoPo/tAgDYc+ONN4a9//e//60lS5Y0aj/SgQMHlJiYeMLHiY+Pb1Z9kuTxeOTx8E8VgBPHtBSAYxo+fLj69eunVatW6eKLL1ZiYqJ+85vfSJJeffVVjRw5Ul26dJHP51PPnj11zz33yO/3h+3jyDU3W7dulcvl0v33368nnnhCPXv2lM/n07nnnqsPPvggbNum1ty4XC5NnDhRCxcuVL9+/eTz+XTWWWdp8eLFjepfunSpcnJylJCQoJ49e+rxxx93fB3PSy+9pMGDB6tNmzZKT0/XjTfeqB07doT1KSkpUX5+vk477TT5fD517txZV155pbZu3Rrqs3LlSo0YMULp6elq06aNevTooR/84AeO1Qm0FvzfIQDH9eWXX+ryyy/X9ddfrxtvvDE0RTVv3jwlJSWpoKBASUlJevvttzVlyhRVVFTovvvuO+5+n3/+eVVWVurHP/6xXC6X7r33Xl1zzTXasmXLcUd7li1bppdfflkTJkxQcnKyHnroIV177bXavn27OnToIElas2aNLrvsMnXu3Fm/+93v5Pf7dffdd6tjx45f/6TUmzdvnvLz83XuueeqsLBQpaWlevDBB/Xee+9pzZo1SktLkyRde+212rBhg37yk58oOztbu3bt0pIlS7R9+/bQ+0svvVQdO3bUr3/9a6WlpWnr1q16+eWXHasVaDUMANS79dZbzZH/LAwbNsxIMnPmzGnU/8CBA43afvzjH5vExERz6NChUNvYsWNN9+7dQ+8/++wzI8l06NDB7N27N9T+6quvGknmb3/7W6ht6tSpjWqSZLxer/nkk09CbevWrTOSzMMPPxxqu+KKK0xiYqLZsWNHqO3jjz82Ho+n0T6bMnbsWNO2bdujfl5dXW06depk+vXrZw4ePBhqX7RokZFkpkyZYowx5quvvjKSzH333XfUfb3yyitGkvnggw+OWxeAY2NaCsBx+Xw+5efnN2pv06ZN6PfKykrt2bNHF110kQ4cOKD//ve/x93vqFGj1K5du9D7iy66SJK0ZcuW426bl5ennj17ht6fffbZSklJCW3r9/v11ltv6aqrrlKXLl1C/Xr16qXLL7/8uPs/EStXrtSuXbs0YcKEsAXPI0eOVJ8+ffT3v/9dUt158nq9Wrp0qb766qsm9xUc4Vm0aJFqamocqQ9orQg3AI6ra9eu8nq9jdo3bNigq6++WqmpqUpJSVHHjh1Di5HLy8uPu99u3bqFvQ8GnaMFgGNtG9w+uO2uXbt08OBB9erVq1G/ptqaY9u2bZKkM844o9Fnffr0CX3u8/k0Y8YMvf7668rIyNDFF1+se++9VyUlJaH+w4YN07XXXqvf/e53Sk9P15VXXqmnnnpKVVVVjtQKtCaEGwDH1XCEJqisrEzDhg3TunXrdPfdd+tvf/ublixZohkzZkiSAoHAcfcbFxfXZLs5gTtUfJ1tbZg0aZI2b96swsJCJSQk6M4779SZZ56pNWvWSKpbJP2Xv/xFy5cv18SJE7Vjxw794Ac/0ODBg7kUHThJhBsAzbJ06VJ9+eWXmjdvnm677TZ997vfVV5eXtg0k02dOnVSQkKCPvnkk0afNdXWHN27d5ckbdq0qdFnmzZtCn0e1LNnT/385z/Xm2++qfXr16u6uloPPPBAWJ/zzjtP06ZN08qVK/Xcc89pw4YNWrBggSP1Aq0F4QZAswRHThqOlFRXV+vRRx+1VVKYuLg45eXlaeHChfriiy9C7Z988olef/11R46Rk5OjTp06ac6cOWHTR6+//ro2btyokSNHSqq7L9ChQ4fCtu3Zs6eSk5ND23311VeNRp0GDhwoSUxNASeJS8EBNMv555+vdu3aaezYsfrpT38ql8ul+fPnt6hpobvuuktvvvmmLrjgAt1yyy3y+/165JFH1K9fP61du/aE9lFTU6Pf//73jdrbt2+vCRMmaMaMGcrPz9ewYcM0evTo0KXg2dnZ+tnPfiZJ2rx5sy655BJdd9116tu3rzwej1555RWVlpbq+uuvlyQ9/fTTevTRR3X11VerZ8+eqqys1JNPPqmUlBR95zvfceycAK0B4QZAs3To0EGLFi3Sz3/+c/32t79Vu3btdOONN+qSSy7RiBEjbJcnSRo8eLBef/113X777brzzjuVlZWlu+++Wxs3bjyhq7mkutGoO++8s1F7z549NWHCBI0bN06JiYmaPn26fvWrX6lt27a6+uqrNWPGjNAVUFlZWRo9erSKioo0f/58eTwe9enTRy+++KKuvfZaSXULilesWKEFCxaotLRUqampGjJkiJ577jn16NHDsXMCtAY8WwpAq3PVVVdpw4YN+vjjj22XAiACWHMDIKYdPHgw7P3HH3+s1157TcOHD7dTEICIY+QGQEzr3Lmzxo0bp9NPP13btm3TY489pqqqKq1Zs0a9e/e2XR6ACGDNDYCYdtlll+nPf/6zSkpK5PP5lJubqz/84Q8EGyCGMXIDAABiCmtuAABATCHcAACAmNLq1twEAgF98cUXSk5Olsvlsl0OAAA4AcYYVVZWqkuXLnK7jz020+rCzRdffKGsrCzbZQAAgGYoLi7Waaeddsw+rS7cJCcnS6o7OSkpKZarAQAAJ6KiokJZWVmhv+PH0urCTXAqKiUlhXADAMAp5kSWlLCgGAAAxBTCDQAAiCmEGwAAEFMINwAAIKYQbgAAQEwh3AAAgJhCuAEAADGFcAMAAGIK4QYAAMQUwg0AAIgpLSLczJ49W9nZ2UpISNDQoUO1YsWKo/adN2+eXC5X2CshISGK1QIAgJbMerh54YUXVFBQoKlTp2r16tUaMGCARowYoV27dh11m5SUFO3cuTP02rZtWxQrBgAALZn1cDNz5kyNHz9e+fn56tu3r+bMmaPExETNnTv3qNu4XC5lZmaGXhkZGVGsuGlVtX59/tUB7Sw/aLsUAABaNavhprq6WqtWrVJeXl6oze12Ky8vT8uXLz/qdvv27VP37t2VlZWlK6+8Uhs2bDhq36qqKlVUVIS9ImH9jgpdOOMdjXr83xHZPwAAODFWw82ePXvk9/sbjbxkZGSopKSkyW3OOOMMzZ07V6+++qqeffZZBQIBnX/++fr888+b7F9YWKjU1NTQKysry/HvIUnBJ7AbmYjsHwAAnBjr01InKzc3V2PGjNHAgQM1bNgwvfzyy+rYsaMef/zxJvtPnjxZ5eXloVdxcXFE6nLXpxtDtgEAwCqPzYOnp6crLi5OpaWlYe2lpaXKzMw8oX3Ex8dr0KBB+uSTT5r83Ofzyefzfe1aj6d+4IZwAwCAZVZHbrxerwYPHqyioqJQWyAQUFFRkXJzc09oH36/Xx9++KE6d+4cqTJPSGhainQDAIBVVkduJKmgoEBjx45VTk6OhgwZolmzZmn//v3Kz8+XJI0ZM0Zdu3ZVYWGhJOnuu+/Weeedp169eqmsrEz33Xeftm3bpv/3//6fza9xeFrKahUAAMB6uBk1apR2796tKVOmqKSkRAMHDtTixYtDi4y3b98ut/vwANNXX32l8ePHq6SkRO3atdPgwYP1r3/9S3379rX1FcIEGLkBAMAql2ll8ygVFRVKTU1VeXm5UlJSHNvvhi/KNfKhZeqU7NOKO/KOvwEAADhhJ/P3+5S7WqqlcolpKQAAWgLCjUOCM2etaxwMAICWh3DjkNDIDekGAACrCDcOOXyHYgAAYBPhxiFu7nMDAECLQLhxTF26CZBtAACwinDjEO5QDABAy0C4cQh3KAYAoGUg3DiEB2cCANAyEG4cwrQUAAAtA+HGIUxLAQDQMhBuHMaDMwEAsItw45DD01J26wAAoLUj3DiEaSkAAFoGwo1DWFAMAEDLQLhxyOEHZ1ouBACAVo5w4xAenAkAQMtAuHEI01IAALQMhBuHuHhwJgAALQLhxiHBkRsAAGAX4cYh7gbphqkpAADsIdw4pOHADVNTAADYQ7hxSMNpKUZuAACwh3DjEFfDaSmLdQAA0NoRbhzScOSGh2cCAGAP4cYhDdfckG0AALCHcOMQN9eCAwDQIhBuHMK0FAAALQPhxiEuNbzPjcVCAABo5Qg3Dgm7FNxeGQAAtHqEG4cwLQUAQMtAuHEI01IAALQMhBuHhF0sRbgBAMAawo1Dwh6cSboBAMAawo1DeHAmAAAtA+HGITw4EwCAloFw4xAenAkAQMtAuHFQMN9wKTgAAPYQbhwUGrsh2wAAYA3hxkHBK6bINgAA2EO4cRDTUgAA2Ee4cVDwLsVkGwAA7CHcOCg4ckO2AQDAHsKNg0LTUtzFDwAAawg3DnKF3acYAADYQLhxkDs4LcXADQAA1hBuHBS8SzFXSwEAYA/hxkHBSSmiDQAA9hBunBSaliLeAABgC+HGQdyhGAAA+wg3DnIxcgMAgHWEGweF1tyQbQAAsIZw4yCmpQAAsI9w4yAenAkAgH2EG0fx4EwAAGwj3DiIOxQDAGBfiwg3s2fPVnZ2thISEjR06FCtWLHihLZbsGCBXC6XrrrqqsgWeIKYlgIAwD7r4eaFF15QQUGBpk6dqtWrV2vAgAEaMWKEdu3adczttm7dqttvv10XXXRRlCo9Ph6cCQCAfdbDzcyZMzV+/Hjl5+erb9++mjNnjhITEzV37tyjbuP3+3XDDTfod7/7nU4//fQoVntsTEsBAGCf1XBTXV2tVatWKS8vL9TmdruVl5en5cuXH3W7u+++W506ddIPf/jD4x6jqqpKFRUVYa9I4cGZAADYZzXc7NmzR36/XxkZGWHtGRkZKikpaXKbZcuW6U9/+pOefPLJEzpGYWGhUlNTQ6+srKyvXffxEG0AALDH+rTUyaisrNRNN92kJ598Uunp6Se0zeTJk1VeXh56FRcXR6w+d/3Z5PELAADY47F58PT0dMXFxam0tDSsvbS0VJmZmY36f/rpp9q6dauuuOKKUFsgEJAkeTwebdq0ST179gzbxufzyefzRaD6xoILigNkGwAArLE6cuP1ejV48GAVFRWF2gKBgIqKipSbm9uof58+ffThhx9q7dq1odf3vvc9ffOb39TatWujMuV0LK7QxVKkGwAAbLE6ciNJBQUFGjt2rHJycjRkyBDNmjVL+/fvV35+viRpzJgx6tq1qwoLC5WQkKB+/fqFbZ+WliZJjdpt4MGZAADYZz3cjBo1Srt379aUKVNUUlKigQMHavHixaFFxtu3b5fbfWosDXK7mJYCAMA2l2llq18rKiqUmpqq8vJypaSkOLrvbz2wVFt279cLPzpPQ0/v4Oi+AQBozU7m7/epMSRyighNS1mtAgCA1o1w46DgtFTrGgsDAKBlIdw4yBV6/ALpBgAAWwg3Dgre54ZoAwCAPYQbB7l4cCYAANYRbhzEgzMBALCPcOMgrpYCAMA+wo2DeHAmAAD2EW4cFFpQTLYBAMAawo2DQguKmZgCAMAawo2DXNzEDwAA6wg3DgouKObBmQAA2EO4cRB3KAYAwD7CjYO4FBwAAPsINw46/OBM4g0AALYQbhzE4xcAALCPcOMgHpwJAIB9hBsHMXIDAIB9hBsHBcMND84EAMAewo2DmJYCAMA+wo2DeHAmAAD2EW4cxIMzAQCwj3DjIB6cCQCAfYQbB/HgTAAA7CPcOIgHZwIAYB/hxkE8OBMAAPsINw4KPVvKch0AALRmhBsHhZ4KzsgNAADWEG4cxOMXAACwj3DjKKalAACwjXDjIDfPlgIAwDrCjYOYlgIAwD7CjYPi3MGb+JFuAACwhXDjoOAdirmJHwAA9hBuHOQOhRvSDQAAthBuHHR4QbHdOgAAaM0INw4KjdyQbgAAsIZw4yCmpQAAsI9w4yCmpQAAsI9w4yBGbgAAsI9w4yB3/dnkPjcAANhDuHFQ8D43/oDlQgAAaMUINw6KY1oKAADrCDcOcoeeLUW4AQDAFsKNg3j8AgAA9hFuHMTVUgAA2Ee4cVBwWspPuAEAwBrCjYPi6tMN2QYAAHsINw5y8WwpAACsI9w4iMcvAABgH+HGQSwoBgDAPsKNgw6P3BBuAACwhXDjILebkRsAAGwj3DjIzU38AACwjnDjIB6/AACAfYQbBx1+KjjhBgAAWwg3DmJaCgAA+1pEuJk9e7ays7OVkJCgoUOHasWKFUft+/LLLysnJ0dpaWlq27atBg4cqPnz50ex2qOLqz+bLCgGAMAe6+HmhRdeUEFBgaZOnarVq1drwIABGjFihHbt2tVk//bt2+uOO+7Q8uXL9Z///Ef5+fnKz8/XG2+8EeXKGwuO3JBtAACwx3q4mTlzpsaPH6/8/Hz17dtXc+bMUWJioubOndtk/+HDh+vqq6/WmWeeqZ49e+q2227T2WefrWXLlkW58sZc3MQPAADrrIab6upqrVq1Snl5eaE2t9utvLw8LV++/LjbG2NUVFSkTZs26eKLL26yT1VVlSoqKsJekRJ6KjiLbgAAsMZquNmzZ4/8fr8yMjLC2jMyMlRSUnLU7crLy5WUlCSv16uRI0fq4Ycf1re//e0m+xYWFio1NTX0ysrKcvQ7NMS0FAAA9lmflmqO5ORkrV27Vh988IGmTZumgoICLV26tMm+kydPVnl5eehVXFwcsbq4QzEAAPZ5bB48PT1dcXFxKi0tDWsvLS1VZmbmUbdzu93q1auXJGngwIHauHGjCgsLNXz48EZ9fT6ffD6fo3UftS6eLQUAgHVWR268Xq8GDx6soqKiUFsgEFBRUZFyc3NPeD+BQEBVVVWRKPGkcJ8bAADsszpyI0kFBQUaO3ascnJyNGTIEM2aNUv79+9Xfn6+JGnMmDHq2rWrCgsLJdWtocnJyVHPnj1VVVWl1157TfPnz9djjz1m82tIajByQ7oBAMAa6+Fm1KhR2r17t6ZMmaKSkhINHDhQixcvDi0y3r59u9zuwwNM+/fv14QJE/T555+rTZs26tOnj5599lmNGjXK1lcIcXMpOAAA1rlMK3vKY0VFhVJTU1VeXq6UlBRH9/1/qz7Xz19ap2Hf6KinfzDE0X0DANCanczf71PyaqmWys3jFwAAsI5w4yDucwMAgH2EGwcFH7/AHYoBALCHcOOgOBYUAwBgHeHGQcFLwck2AADYQ7hxEE8FBwDAPsKNg3j8AgAA9hFuHBS8WspPtgEAwBrCjYPi3MFLwUk3AADYQrhxkItpKQAArCPcOCj0bKmA5UIAAGjFCDcO4sGZAADYR7hxEFdLAQBgH+HGQW53cOTGciEAALRizQo3xcXF+vzzz0PvV6xYoUmTJumJJ55wrLBTEdNSAADY16xw87//+7965513JEklJSX69re/rRUrVuiOO+7Q3Xff7WiBpxIevwAAgH3NCjfr16/XkCFDJEkvvvii+vXrp3/961967rnnNG/ePCfrO6Xw+AUAAOxrVripqamRz+eTJL311lv63ve+J0nq06ePdu7c6Vx1p5jgyI2fRTcAAFjTrHBz1llnac6cOfrnP/+pJUuW6LLLLpMkffHFF+rQoYOjBZ5KDt+h2HIhAAC0Ys0KNzNmzNDjjz+u4cOHa/To0RowYIAk6a9//Wtouqo1YkExAAD2eZqz0fDhw7Vnzx5VVFSoXbt2ofYf/ehHSkxMdKy4Uw2PXwAAwL5mjdwcPHhQVVVVoWCzbds2zZo1S5s2bVKnTp0cLfBUEpyWYs0NAAD2NCvcXHnllXrmmWckSWVlZRo6dKgeeOABXXXVVXrsscccLfBUEuci3AAAYFuzws3q1at10UUXSZL+8pe/KCMjQ9u2bdMzzzyjhx56yNECTyWM3AAAYF+zws2BAweUnJwsSXrzzTd1zTXXyO1267zzztO2bdscLfBUQrgBAMC+ZoWbXr16aeHChSouLtYbb7yhSy+9VJK0a9cupaSkOFrgqSQUblhQDACANc0KN1OmTNHtt9+u7OxsDRkyRLm5uZLqRnEGDRrkaIGnEkZuAACwr1mXgn//+9/XhRdeqJ07d4bucSNJl1xyia6++mrHijvVBMNNLeEGAABrmhVuJCkzM1OZmZmhp4OfdtpprfoGfpLkcdcNhBkjBQJG7uDzGAAAQNQ0a1oqEAjo7rvvVmpqqrp3767u3bsrLS1N99xzjwKBgNM1njKCl4JLrLsBAMCWZo3c3HHHHfrTn/6k6dOn64ILLpAkLVu2THfddZcOHTqkadOmOVrkqSIurkG4CRjFx1ksBgCAVqpZ4ebpp5/WH//4x9DTwCXp7LPPVteuXTVhwoTWG25c4eEGAABEX7Ompfbu3as+ffo0au/Tp4/27t37tYs6VcW5mZYCAMC2ZoWbAQMG6JFHHmnU/sgjj+jss8/+2kWdqsLCjZ9wAwCADc2alrr33ns1cuRIvfXWW6F73CxfvlzFxcV67bXXHC3wVNLw4ihGbgAAsKNZIzfDhg3T5s2bdfXVV6usrExlZWW65pprtGHDBs2fP9/pGk8ZLpeLG/kBAGCZyxjnhhjWrVunc845R36/36ldOq6iokKpqakqLy+PyKMivvHb11VdG9B7v/6Wuqa1cXz/AAC0Rifz97tZIzc4Ok/9yE2AkRsAAKwg3DgseDk4j2AAAMAOwo3DgjfyY80NAAB2nNTVUtdcc80xPy8rK/s6tcSE4MgN4QYAADtOKtykpqYe9/MxY8Z8rYJOdVwtBQCAXScVbp566qlI1REzCDcAANjFmhuHhcINN/EDAMAKwo3DDo/cBCxXAgBA60S4cVgw3NTybCkAAKwg3DjMw7QUAABWEW4c5uZScAAArCLcOMzDTfwAALCKcOMwbuIHAIBdhBuHcZ8bAADsItw4jHADAIBdhBuHcRM/AADsItw4jJEbAADsItw4LM5dd0q5iR8AAHYQbhzGTfwAALCrRYSb2bNnKzs7WwkJCRo6dKhWrFhx1L5PPvmkLrroIrVr107t2rVTXl7eMftHGzfxAwDALuvh5oUXXlBBQYGmTp2q1atXa8CAARoxYoR27drVZP+lS5dq9OjReuedd7R8+XJlZWXp0ksv1Y4dO6JcedM8rLkBAMAq6+Fm5syZGj9+vPLz89W3b1/NmTNHiYmJmjt3bpP9n3vuOU2YMEEDBw5Unz599Mc//lGBQEBFRUVRrrxpLCgGAMAuq+Gmurpaq1atUl5eXqjN7XYrLy9Py5cvP6F9HDhwQDU1NWrfvn2kyjwpoaeCE24AALDCY/Pge/bskd/vV0ZGRlh7RkaG/vvf/57QPn71q1+pS5cuYQGpoaqqKlVVVYXeV1RUNL/gE3D42VKBiB4HAAA0zfq01Ncxffp0LViwQK+88ooSEhKa7FNYWKjU1NTQKysrK6I1xddfCl7DpeAAAFhhNdykp6crLi5OpaWlYe2lpaXKzMw85rb333+/pk+frjfffFNnn332UftNnjxZ5eXloVdxcbEjtR9NvKdu5KbGz8gNAAA2WA03Xq9XgwcPDlsMHFwcnJube9Tt7r33Xt1zzz1avHixcnJyjnkMn8+nlJSUsFckeUIjN4QbAABssLrmRpIKCgo0duxY5eTkaMiQIZo1a5b279+v/Px8SdKYMWPUtWtXFRYWSpJmzJihKVOm6Pnnn1d2drZKSkokSUlJSUpKSrL2PYK8HqalAACwyXq4GTVqlHbv3q0pU6aopKREAwcO1OLFi0OLjLdv3y63+/AA02OPPabq6mp9//vfD9vP1KlTddddd0Wz9CYF73PDyA0AAHZYDzeSNHHiRE2cOLHJz5YuXRr2fuvWrZEv6GuIj2NaCgAAm07pq6VaouC0FA/OBADADsKNw4LTUtWM3AAAYAXhxmHBaSlGbgAAsINw47D4OBYUAwBgE+HGYSwoBgDALsKNww6HG6alAACwgXDjMA/TUgAAWEW4cZiXBcUAAFhFuHGYpz7ccCk4AAB2EG4cxtVSAADYRbhxGNNSAADYRbhxmIdLwQEAsIpw47DQtFSAcAMAgA2EG4eF7nNTy7QUAAA2EG4cxh2KAQCwi3DjMG7iBwCAXYQbh3l5/AIAAFYRbhwWnJaqZUExAABWEG4cdnhaysgYRm8AAIg2wo3DgiM3ElNTAADYQLhxmM9z+JTyfCkAAKKPcOOwhuHmUI3fYiUAALROhBuHuVwueesDTlUtIzcAAEQb4SYCEurDDSM3AABEH+EmAnzxcZKkqhpGbgAAiDbCTQQkxNeP3NQycgMAQLQRbiLA52HkBgAAWwg3EeALLShm5AYAgGgj3ERAQv2am0OM3AAAEHWEmwhg5AYAAHsINxGQwNVSAABYQ7iJAEZuAACwh3ATAay5AQDAHsJNBDByAwCAPYSbCPDxbCkAAKwh3ETA4WkpRm4AAIg2wk0EMHIDAIA9hJsI8DFyAwCANYSbCAiO3HC1FAAA0Ue4iYBEr0eSdJCRGwAAoo5wEwFtfXXTUgeqay1XAgBA60O4iYDgyM3+KkZuAACINsJNBLT1MnIDAIAthJsISPQxcgMAgC2EmwgIjtzsZ+QGAICoI9xEQHDk5gAjNwAARB3hJgKS6hcUV/sDquYuxQAARBXhJgLa1E9LSdLBakZvAACIJsJNBHg9bnnj6k4t624AAIguwk2EJHIjPwAArCDcREjb+nU3+1hUDABAVBFuIiQxeCO/KkZuAACIJsJNhIRu5MeCYgAAoopwEyHJvuC0VI3lSgAAaF0INxGS2iZeklR+gHADAEA0EW4iJCUYbg6y5gYAgGgi3ERIaOTmICM3AABEk/VwM3v2bGVnZyshIUFDhw7VihUrjtp3w4YNuvbaa5WdnS2Xy6VZs2ZFr9CTRLgBAMAOq+HmhRdeUEFBgaZOnarVq1drwIABGjFihHbt2tVk/wMHDuj000/X9OnTlZmZGeVqTw7hBgAAO6yGm5kzZ2r8+PHKz89X3759NWfOHCUmJmru3LlN9j/33HN133336frrr5fP54tytScnGG4qCDcAAESVtXBTXV2tVatWKS8v73Axbrfy8vK0fPlyx45TVVWlioqKsFc0MHIDAIAd1sLNnj175Pf7lZGREdaekZGhkpISx45TWFio1NTU0CsrK8uxfR9LMNyUHayOyvEAAEAd6wuKI23y5MkqLy8PvYqLi6Ny3LRERm4AALDBY+vA6enpiouLU2lpaVh7aWmpo4uFfT6flfU5wfvcHKoJqKrWL58nLuo1AADQGlkbufF6vRo8eLCKiopCbYFAQEVFRcrNzbVVlmOSfR553C5J0lf7Gb0BACBarI3cSFJBQYHGjh2rnJwcDRkyRLNmzdL+/fuVn58vSRozZoy6du2qwsJCSXWLkD/66KPQ7zt27NDatWuVlJSkXr16WfseTXG7XeqQ5FVpRZX27KtSZmqC7ZIAAGgVrIabUaNGaffu3ZoyZYpKSko0cOBALV68OLTIePv27XK7Dw8uffHFFxo0aFDo/f3336/7779fw4YN09KlS6Nd/nGlJ/lUWlGl3ZVVtksBAKDVsBpuJGnixImaOHFik58dGViys7NljIlCVc7omFy31mf3PsINAADREvNXS9mUnlQfbhi5AQAgagg3ERQMN3sYuQEAIGoINxEUnJbas48b+QEAEC2EmwhKT/JKknZXHrJcCQAArQfhJoI6suYGAICoI9xEUPDeNiXlh06pq7wAADiVEW4iqEtaG0nS/mq/yg5wl2IAAKKBcBNBCfFxoUXFn3910HI1AAC0DoSbCOtaP3qzo+yA5UoAAGgdCDcRdlq7unDDyA0AANFBuImwroQbAACiinATYae1S5Qkff4V01IAAEQD4SbCsjvUhZstu/dbrgQAgNaBcBNhvTslS5K2frlfVbV+y9UAABD7CDcRlpHiU7LPo4CRtu5hagoAgEgj3ESYy+VSz05JkqSPd1VargYAgNhHuImC3vXh5pNd+yxXAgBA7CPcREHvjLpw89+djNwAABBphJso6N81TZL04Y5yu4UAANAKEG6ioP9pqXK5pB1lB7W7ssp2OQAAxDTCTRQk+Tzq1bFuauo/n5fZLQYAgBhHuImSs09LkyStLS6zWgcAALGOcBMlOdntJEn/3vKl5UoAAIhthJsoubBXuiRpzfYy7auqtVwNAACxi3ATJVntE9WtfaJqA0bvM3oDAEDEEG6i6MLedaM3/9i823IlAADELsJNFH3rjE6SpDc2lCoQMJarAQAgNhFuouiib6Qr2edRScUhrd7+le1yAACISYSbKPJ54vTtszIkSX9b94XlagAAiE2Emyj73oAukqRX1uzQwWq/5WoAAIg9hJsou7h3R3Vrn6iKQ7X667odtssBACDmEG6izO126cbzukmSnnpvKwuLAQBwGOHGgutyspTk8+i/JZVavKHEdjkAAMQUwo0FaYle/fDCHpKkmUs2q9YfsFwRAACxg3BjyQ8v6qG0xHh9smuf5v1rq+1yAACIGYQbS1IS4jX58j6SpAfe3KzivQcsVwQAQGwg3Fh0XU6WhvZor4M1fk388xpV1XJpOAAAXxfhxiKXy6X7/2eAUtvEa11xmX73t49kDFdPAQDwdRBuLMtqn6hZowZKkp5/f7seLPrYbkEAAJziCDctwDf7dNJdV/SVJM1662PNemszIzgAADQT4aaFGHdBD/1ixBmS6gLOr/7vP6zBAQCgGQg3Lcit3+ylaVf3k9slvbjyc13z6L/06e59tssCAOCUQrhpYW4Y2l1zx52r9m292vBFhUY+9E89XPSxDtUwigMAwIkg3LRAw8/opNdvu0gX9krXoZqAHliyWSNm/UOvrPmcuxkDAHAcLtPKVq5WVFQoNTVV5eXlSklJsV3OMRlj9Nd1X2ja3zdqV2WVJCm7Q6LGX3y6rhzYVUk+j+UKAQCIjpP5+024OQXsq6rVM8u36o///Ex791dLktp64/S9gV11zTldNbhbO7ndLstVAgAQOYSbYzgVw03Qgepa/XlFsZ57f5u27N4fau+U7NNl/TL17b4ZOje7vRLi4yxWCQCA8wg3x3Aqh5sgY4ze/2yvXlxZrCUflaryUG3oM6/HrXOz2+mCXuka2qO9zuqSStgBAJzyCDfHEAvhpqHq2oDe+3SPXv9wp97dvFulFVVhn3vcLp3ZOUUDs9I0ICtNfTKT1atTEoEHAHBKIdwcQ6yFm4aMMfp0936998keLftkj9Zs/0p79lU36ud2Sdkd2qp3RpLOyEhWz05J6tY+Ud07tFW7xHi5XKzfAQC0LISbY4jlcHMkY4x2lB3U2uIyrd1epg93lGtTaaXKDtQcdZtkn0dZ7RPVvUOiunVIVJfUNspISVDn1ARlpiYoPcmnOBYvAwCijHBzDK0p3DTFGKPd+6q0uWSfNpdWalNJpT77cr+2f3lAJRWHjrt9nNulTsk+ZaYmKDOlLux0SPKqQ1uvOiT51L6tV+lJXrVv61Nam3iu4gIAOOJk/n5zo5RWxuVyqVNygjolJ+jC3ulhnx2q8at47wFt+/KAtu09oOK9B1RSfkg7Kw6ptPyQdlUekj9gtLP8kHaWHz8IuV1S+7ZetW/rVVobr1LaeJTSJl4pCfFKbVP3SmnT8HdP3c+EeCV645geAwA0C+EGIQnxceqdkazeGclNfl7rD2jPvmqVVBxSSflBlZQf0pf7q+te+6q0d3+1vtxX9778YI0CRtqzr7rJdT/H43ZJbb0eJfri1NbnUZLPo7Zej9rWv2/r86it9/BnifWfJfk8auONU5v4OCXEH/HT65Y3zk1oAoAYR7jBCfPEueumo1ITpKy0Y/atrg3oqwN1YWdvfdipOFRT9/Ng3c+6tlqVH6xRZYO22oBRwEiVVbWqrKqVVHXMY50Ml0tHBB93WAhKiI9TG2+cEjxutfHGyedxy+txyxsXV/fT4w61+Tx1Yelwe32fuCb61bd74njiCQBEGuEGEeH1uJWRkqCMlIST2s4Yo4M1fu2rqtX+Kr/2V9XWvaprta/h+yp/fVutDlQ1+Ky6Vger/TpY49ehmoAO1dT97g+Y+v1LB6r9OlBt50GkbpcaBKC68OSJc8njdik+zq34uLr38W634j0uedxuxcfV//S4Fe921fWPq/s9vj4wHe5Tt22wj7e+3RNX39ftqt/P4eO63XU/49x1fePcUpzb3aCtcR+3W3U/XWIkDECL0yLCzezZs3XfffeppKREAwYM0MMPP6whQ4Yctf9LL72kO++8U1u3blXv3r01Y8YMfec734lixYgUl8ulRG/dNJOanh1rlhp/oD7w+HWoOqBDtf4GISj4qutzsNqvQ7V+Har2q6o2oKragKr9AVXV1P2srvWrujb4e/3ntQ1+9zd871egwZL9gFF96ApIqj1qvaeSYOiJaxCG4upDUl1Ych2lT8P37kZByu12Kc5V97nLpQa/uxTnltwul9z1bW6XQv3drrpt3fXb1P1+EtvU9w9u43IdUUf9Nq6j7kcNjnHEPoP9XS65VLfv4Hu3yyW5FPbe5aobbQy+J0wCJ8Z6uHnhhRdUUFCgOXPmaOjQoZo1a5ZGjBihTZs2qVOnTo36/+tf/9Lo0aNVWFio7373u3r++ed11VVXafXq1erXr5+Fb4BTQXBUJCUhPurHrvUfGXgOB6Iaf0C1gYBq/Kbu9+DPQN3PGr9RrT+gmoBRTe3hvrV+o9pA3X5rG/U5vK+6PnWf1/qNagKBsOMEjFQbCMjvN/IbI3/AqDZgQu9rA3Vt/sDRL6qsrd8G0XM48EguucLeHw5JDYKUK9inQZCSQkEsFKR0ZLBqGL7UYD8N3ge3cTc4lhR2bPcRIe3IfbsafA9X/fdzqW6faqq9QchzhZ2DwzXpyPYG+1EoXDYMmuH7DGuv31ZS2LlyucL3eeRxwr5X2HGO0t6g3vDvHV6vjtJ+5Pd2qS54B/s03OeR5/3Icxn8/XB7432EznUT58kX71an5JMbuXeS9UvBhw4dqnPPPVePPPKIJCkQCCgrK0s/+clP9Otf/7pR/1GjRmn//v1atGhRqO28887TwIEDNWfOnOMer7VfCg40h6kPPk0FoMbv6wJWrf+IbcLeB0Lv69ZYmbD3fmPk9wfkN+HHNkahsGVMcF+H+wSMFAj9bhr8LgXq9xH8PbyfGm8TqN9Xg22O7GOM6j+v63/s49b1MTpcZ+u6EQdak3O6penlCRc4us9T5lLw6upqrVq1SpMnTw61ud1u5eXlafny5U1us3z5chUUFIS1jRgxQgsXLoxkqUCr5nLVr/WxXUgMMuZw2AkGHtPwvSQTOPw+YOoC0uE+dfto+P7wfk5g32GBr/n7lhQKcI32Xf9TR7wP7jsYXIPHDp6XuuMebjd1H8ioQR11TTKqe9NUe7DeRm3B90ccP6xdR25bdwyF7ftwaK2rv+F+gvXW/a4jamhYr45sb3BMNXgf/h0P7zNwRL1qUK85ol411a7w+ut3Ef79j9i3jvy8fluvx+7FE1b/rdqzZ4/8fr8yMjLC2jMyMvTf//63yW1KSkqa7F9SUtJk/6qqKlVVHb7apqKi4mtWDQDOqVvTI8WFBvgBfF0xf11qYWGhUlNTQ6+srCzbJQEAgAiyGm7S09MVFxen0tLSsPbS0lJlZmY2uU1mZuZJ9Z88ebLKy8tDr+LiYmeKBwAALZLVcOP1ejV48GAVFRWF2gKBgIqKipSbm9vkNrm5uWH9JWnJkiVH7e/z+ZSSkhL2AgAAscv6+sCCggKNHTtWOTk5GjJkiGbNmqX9+/crPz9fkjRmzBh17dpVhYWFkqTbbrtNw4YN0wMPPKCRI0dqwYIFWrlypZ544gmbXwMAALQQ1sPNqFGjtHv3bk2ZMkUlJSUaOHCgFi9eHFo0vH37drndhweYzj//fD3//PP67W9/q9/85jfq3bu3Fi5cyD1uAACApBZwn5to4z43AACcek7m73fMXy0FAABaF8INAACIKYQbAAAQUwg3AAAgphBuAABATCHcAACAmEK4AQAAMYVwAwAAYor1OxRHW/CehRUVFZYrAQAAJyr4d/tE7j3c6sJNZWWlJCkrK8tyJQAA4GRVVlYqNTX1mH1a3eMXAoGAvvjiCyUnJ8vlcjm674qKCmVlZam4uJhHO0QQ5zk6OM/RwXmOHs51dETqPBtjVFlZqS5duoQ9c7IprW7kxu1267TTTovoMVJSUvgfThRwnqOD8xwdnOfo4VxHRyTO8/FGbIJYUAwAAGIK4QYAAMQUwo2DfD6fpk6dKp/PZ7uUmMZ5jg7Oc3RwnqOHcx0dLeE8t7oFxQAAILYxcgMAAGIK4QYAAMQUwg0AAIgphBsAABBTCDcOmT17trKzs5WQkKChQ4dqxYoVtktq0QoLC3XuuecqOTlZnTp10lVXXaVNmzaF9Tl06JBuvfVWdejQQUlJSbr22mtVWloa1mf79u0aOXKkEhMT1alTJ/3iF79QbW1tWJ+lS5fqnHPOkc/nU69evTRv3rxIf70Wafr06XK5XJo0aVKojXPsnB07dujGG29Uhw4d1KZNG/Xv318rV64MfW6M0ZQpU9S5c2e1adNGeXl5+vjjj8P2sXfvXt1www1KSUlRWlqafvjDH2rfvn1hff7zn//ooosuUkJCgrKysnTvvfdG5fu1BH6/X3feead69OihNm3aqGfPnrrnnnvCnjXEeT55//jHP3TFFVeoS5cucrlcWrhwYdjn0TynL730kvr06aOEhAT1799fr732WvO+lMHXtmDBAuP1es3cuXPNhg0bzPjx401aWpopLS21XVqLNWLECPPUU0+Z9evXm7Vr15rvfOc7plu3bmbfvn2hPjfffLPJysoyRUVFZuXKlea8884z559/fujz2tpa069fP5OXl2fWrFljXnvtNZOenm4mT54c6rNlyxaTmJhoCgoKzEcffWQefvhhExcXZxYvXhzV72vbihUrTHZ2tjn77LPNbbfdFmrnHDtj7969pnv37mbcuHHm/fffN1u2bDFvvPGG+eSTT0J9pk+fblJTU83ChQvNunXrzPe+9z3To0cPc/DgwVCfyy67zAwYMMD8+9//Nv/85z9Nr169zOjRo0Ofl5eXm4yMDHPDDTeY9evXmz//+c+mTZs25vHHH4/q97Vl2rRppkOHDmbRokXms88+My+99JJJSkoyDz74YKgP5/nkvfbaa+aOO+4wL7/8spFkXnnllbDPo3VO33vvPRMXF2fuvfde89FHH5nf/va3Jj4+3nz44Ycn/Z0INw4YMmSIufXWW0Pv/X6/6dKliyksLLRY1all165dRpJ59913jTHGlJWVmfj4ePPSSy+F+mzcuNFIMsuXLzfG1P0P0u12m5KSklCfxx57zKSkpJiqqipjjDG//OUvzVlnnRV2rFGjRpkRI0ZE+iu1GJWVlaZ3795myZIlZtiwYaFwwzl2zq9+9Stz4YUXHvXzQCBgMjMzzX333RdqKysrMz6fz/z5z382xhjz0UcfGUnmgw8+CPV5/fXXjcvlMjt27DDGGPPoo4+adu3ahc598NhnnHGG01+pRRo5cqT5wQ9+ENZ2zTXXmBtuuMEYw3l2wpHhJprn9LrrrjMjR44Mq2fo0KHmxz/+8Ul/D6alvqbq6mqtWrVKeXl5oTa32628vDwtX77cYmWnlvLycklS+/btJUmrVq1STU1N2Hnt06ePunXrFjqvy5cvV//+/ZWRkRHqM2LECFVUVGjDhg2hPg33EezTmv7b3HrrrRo5cmSj88A5ds5f//pX5eTk6H/+53/UqVMnDRo0SE8++WTo888++0wlJSVh5yk1NVVDhw4NO9dpaWnKyckJ9cnLy5Pb7db7778f6nPxxRfL6/WG+owYMUKbNm3SV199Femvad3555+voqIibd68WZK0bt06LVu2TJdffrkkznMkRPOcOvlvCeHma9qzZ4/8fn/YP/6SlJGRoZKSEktVnVoCgYAmTZqkCy64QP369ZMklZSUyOv1Ki0tLaxvw/NaUlLS5HkPfnasPhUVFTp48GAkvk6LsmDBAq1evVqFhYWNPuMcO2fLli167LHH1Lt3b73xxhu65ZZb9NOf/lRPP/20pMPn6lj/TpSUlKhTp05hn3s8HrVv3/6k/nvEsl//+te6/vrr1adPH8XHx2vQoEGaNGmSbrjhBkmc50iI5jk9Wp/mnPNW91RwtDy33nqr1q9fr2XLltkuJaYUFxfrtttu05IlS5SQkGC7nJgWCASUk5OjP/zhD5KkQYMGaf369ZozZ47Gjh1rubrY8eKLL+q5557T888/r7POOktr167VpEmT1KVLF84zwjBy8zWlp6crLi6u0RUmpaWlyszMtFTVqWPixIlatGiR3nnnHZ122mmh9szMTFVXV6usrCysf8PzmpmZ2eR5D352rD4pKSlq06aN01+nRVm1apV27dqlc845Rx6PRx6PR++++64eeugheTweZWRkcI4d0rlzZ/Xt2zes7cwzz9T27dslHT5Xx/p3IjMzU7t27Qr7vLa2Vnv37j2p/x6x7Be/+EVo9KZ///666aab9LOf/Sw0Msl5dl40z+nR+jTnnBNuviav16vBgwerqKgo1BYIBFRUVKTc3FyLlbVsxhhNnDhRr7zyit5++2316NEj7PPBgwcrPj4+7Lxu2rRJ27dvD53X3Nxcffjhh2H/o1qyZIlSUlJCf2hyc3PD9hHs0xr+21xyySX68MMPtXbt2tArJydHN9xwQ+h3zrEzLrjggka3Mti8ebO6d+8uSerRo4cyMzPDzlNFRYXef//9sHNdVlamVatWhfq8/fbbCgQCGjp0aKjPP/7xD9XU1IT6LFmyRGeccYbatWsXse/XUhw4cEBud/ifrbi4OAUCAUmc50iI5jl19N+Sk16CjEYWLFhgfD6fmTdvnvnoo4/Mj370I5OWlhZ2hQnC3XLLLSY1NdUsXbrU7Ny5M/Q6cOBAqM/NN99sunXrZt5++22zcuVKk5uba3Jzc0OfBy9TvvTSS83atWvN4sWLTceOHZu8TPkXv/iF2bhxo5k9e3aru0y5oYZXSxnDOXbKihUrjMfjMdOmTTMff/yxee6550xiYqJ59tlnQ32mT59u0tLSzKuvvmr+85//mCuvvLLJy2kHDRpk3n//fbNs2TLTu3fvsMtpy8rKTEZGhrnpppvM+vXrzYIFC0xiYmLMXqJ8pLFjx5quXbuGLgV/+eWXTXp6uvnlL38Z6sN5PnmVlZVmzZo1Zs2aNUaSmTlzplmzZo3Ztm2bMSZ65/S9994zHo/H3H///Wbjxo1m6tSpXApu28MPP2y6detmvF6vGTJkiPn3v/9tu6QWTVKTr6eeeirU5+DBg2bChAmmXbt2JjEx0Vx99dVm586dYfvZunWrufzyy02bNm1Menq6+fnPf25qamrC+rzzzjtm4MCBxuv1mtNPPz3sGK3NkeGGc+ycv/3tb6Zfv37G5/OZPn36mCeeeCLs80AgYO68806TkZFhfD6fueSSS8ymTZvC+nz55Zdm9OjRJikpyaSkpJj8/HxTWVkZ1mfdunXmwgsvND6fz3Tt2tVMnz494t+tpaioqDC33Xab6datm0lISDCnn366ueOOO8IuL+Y8n7x33nmnyX+Px44da4yJ7jl98cUXzTe+8Q3j9XrNWWedZf7+97836zu5jGlwa0cAAIBTHGtuAABATCHcAACAmEK4AQAAMYVwAwAAYgrhBgAAxBTCDQAAiCmEGwAAEFMINwBanezsbM2aNct2GQAihHADIKLGjRunq666SpI0fPhwTZo0KWrHnjdvntLS0hq1f/DBB/rRj34UtToARJfHdgEAcLKqq6vl9XqbvX3Hjh0drAZAS8PIDYCoGDdunN599109+OCDcrlccrlc2rp1qyRp/fr1uvzyy5WUlKSMjAzddNNN2rNnT2jb4cOHa+LEiZo0aZLS09M1YsQISdLMmTPVv39/tW3bVllZWZowYYL27dsnSVq6dKny8/NVXl4eOt5dd90lqfG01Pbt23XllVcqKSlJKSkpuu6661RaWhr6/K677tLAgQM1f/58ZWdnKzU1Vddff70qKysje9IANAvhBkBUPPjgg8rNzdX48eO1c+dO7dy5U1lZWSorK9O3vvUtDRo0SCtXrtTixYtVWlqq6667Lmz7p59+Wl6vV++9957mzJkjSXK73XrooYe0YcMGPf3003r77bf1y1/+UpJ0/vnna9asWUpJSQkd7/bbb29UVyAQ0JVXXqm9e/fq3Xff1ZIlS7RlyxaNGjUqrN+nn36qhQsXatGiRVq0aJHeffddTZ8+PUJnC8DXwbQUgKhITU2V1+tVYmKiMjMzQ+2PPPKIBg0apD/84Q+htrlz5yorK0ubN2/WN77xDUlS7969de+994bts+H6nezsbP3+97/XzTffrEcffVRer1epqalyuVxhxztSUVGRPvzwQ3322WfKysqSJD3zzDM666yz9MEHH+jcc8+VVBeC5s2bp+TkZEnSTTfdpKKiIk2bNu3rnRgAjmPkBoBV69at0zvvvKOkpKTQq0+fPpLqRkuCBg8e3Gjbt956S5dccom6du2q5ORk3XTTTfryyy914MCBEz7+xo0blZWVFQo2ktS3b1+lpaVp48aNobbs7OxQsJGkzp07a9euXSf1XQFEByM3AKzat2+frrjiCs2YMaPRZ507dw793rZt27DPtm7dqu9+97u65ZZbNG3aNLVv317Lli3TD3/4Q1VXVysxMdHROuPj48Peu1wuBQIBR48BwBmEGwBR4/V65ff7w9rOOecc/d///Z+ys7Pl8Zz4P0mrVq1SIBDQAw88ILe7bhD6xRdfPO7xjnTmmWequLhYxcXFodGbjz76SGVlZerbt+8J1wOg5WBaCkDUZGdn6/3339fWrVu1Z88eBQIB3Xrrrdq7d69Gjx6tDz74QJ9++qneeOMN5efnHzOY9OrVSzU1NXr44Ye1ZcsWzZ8/P7TQuOHx9u3bp6KiIu3Zs6fJ6aq8vDz1799fN9xwg1avXq0VK1ZozJgxGjZsmHJychw/BwAij3ADIGpuv/12xcXFqW/fvurYsaO2b9+uLl266L333pPf79ell16q/v37a9KkSUpLSwuNyDRlwIABmjlzpmbMmKF+/frpueeeU2FhYVif888/XzfffLNGjRqljh07NlqQLNVNL7366qtq166dLr74YuXl5en000/XCy+84Pj3BxAdLmOMsV0EAACAUxi5AQAAMYVwAwAAYgrhBgAAxBTCDQAAiCmEGwAAEFMINwAAIKYQbgAAQEwh3AAAgJhCuAEAADGFcAMAAGIK4QYAAMQUwg0AAIgp/x89RIO9TU4XKwAAAABJRU5ErkJggg==\n"
          },
          "metadata": {}
        }
      ]
    },
    {
      "cell_type": "markdown",
      "source": [
        "# Here is a modified version of the training loop that implements mini-batch gradient descent:\n",
        "\n",
        "In this modified training loop, we first define(ask user) a batch_size parameter that specifies the number of data points to use in each mini-batch. We then compute the number of batches needed to cover the entire training set, and loop over these batches during training.\n",
        "\n",
        "At each iteration, we shuffle the training data and then select a mini-batch of data to use in the forward and backward passes. We compute the gradients for the mini-batch and use these to update the weights and biases. We repeat this process for all mini-batches in the training set.\n",
        "\n",
        "After training on all mini-batches, we compute the loss for the entire training set to track the progress of training over time."
      ],
      "metadata": {
        "id": "MuED9zzgnt3s"
      }
    },
    {
      "cell_type": "code",
      "source": [
        "from google.colab import files\n",
        "\n",
        "\n",
        "uploaded = files.upload()\n",
        "\n",
        "\n",
        "import pandas as pd\n",
        "import numpy as np\n",
        "import re\n",
        "import random\n",
        "\n",
        "data= pd.read_json('intents.json')\n",
        "corpus = [pattern.lower() for item in data['intents'] for pattern in item['patterns']]\n",
        "tags = [item['tag'] for item in data['intents']  for pattern in item['patterns']]\n",
        "\n",
        "def tokenizer(text):\n",
        "    return set(re.findall('\\w+',text.lower()))\n",
        "\n",
        "def create_bag_of_words(corpus):\n",
        "    bag_of_words = list(set([word for sentence in corpus for word in tokenizer(sentence)]))\n",
        "    return bag_of_words\n",
        "\n",
        "def training_data(corpus,tags,bag_of_words):\n",
        "    X = []\n",
        "    Y = []\n",
        "    for i,sentence in enumerate(corpus):\n",
        "        bag_vector = np.zeros(len(bag_of_words),dtype=np.float32)\n",
        "        sentence_words = tokenizer(sentence)\n",
        "        for word in sentence_words:\n",
        "            if word in bag_of_words:\n",
        "                bag_vector[bag_of_words.index(word)]+=1\n",
        "        X.append(bag_vector)\n",
        "        label = np.zeros(len(tags), dtype=np.float32)\n",
        "        label[tags.index(tags[i])] = 1.0\n",
        "        Y.append(label)\n",
        "    return np.array(X), np.array(Y)\n",
        "\n",
        "bag_of_words = create_bag_of_words(corpus)\n",
        "X_train, Y_train = training_data(corpus, tags, bag_of_words)\n",
        "\n",
        "# Set hyperparameters\n",
        "learning_rate = 0.1\n",
        "iteration = 10000\n",
        "# Take batch size from user\n",
        "while True:\n",
        "    try:\n",
        "        batch_size = int(input(\"Enter batch size: \"))\n",
        "        if batch_size > 0 and batch_size <= len(X_train):\n",
        "            break\n",
        "        else:\n",
        "            print(\"Invalid batch size. Please enter a value between 1 and {}.\".format(len(X_train)))\n",
        "    except ValueError:\n",
        "        print(\"Invalid input. Please enter an integer value.\")\n",
        "\n",
        "no_of_features = len(bag_of_words)\n",
        "no_of_classes = len(tags)\n",
        "\n",
        "# Initialize weights\n",
        "weights = np.zeros((no_of_features,no_of_classes),dtype=np.float32)\n",
        "biases = np.zeros((1,no_of_classes),dtype=np.float32)\n",
        "\n",
        "losses = []\n",
        "\n",
        "# Train the model\n",
        "for i in range(iteration):\n",
        "    # Create mini-batches\n",
        "    idx = np.random.choice(X_train.shape[0], batch_size, replace=False)\n",
        "    X_batch = X_train[idx, :]\n",
        "    Y_batch = Y_train[idx, :]\n",
        "\n",
        "    z = np.dot(X_batch, weights) + biases\n",
        "    sigmoid = 1 / (1 + np.exp(-z))\n",
        "\n",
        "    loss = sigmoid - Y_batch\n",
        "    derv_wrt_weight = 1 / len(X_batch) * np.dot(np.array(X_batch).T, loss)\n",
        "    derv_wrt_bias = 1 / len(X_batch) * np.sum(loss, axis=0, keepdims=True)\n",
        "\n",
        "    weights = weights - learning_rate * derv_wrt_weight\n",
        "    biases = biases - learning_rate * derv_wrt_bias\n",
        "\n",
        "    losses.append(np.mean(np.abs(loss)))\n",
        "\n",
        "# Predict tag using logistic regression model\n",
        "def prediction(sentence, bag_of_words, weights, biases):\n",
        "    # Convert user's input into numerical vector\n",
        "    bag_vector = np.zeros(len(bag_of_words),dtype = np.float32)\n",
        "    sentence_words = tokenizer(sentence)\n",
        "\n",
        "    for word in sentence_words:\n",
        "        if word in bag_of_words:\n",
        "            bag_vector[bag_of_words.index(word)] += 1\n",
        "\n",
        "    z = np.dot(bag_vector,weights) + biases\n",
        "    sigmoid = 1 /(1+ np.exp(-z))\n",
        "    tag_index = np.argmax(sigmoid)\n",
        "    tag = tags[tag_index]\n",
        "    return tag\n",
        "\n",
        "while True:\n",
        "    user_input = input(\"You: \")\n",
        "    if user_input.lower() == \"exit\":\n",
        "        break\n",
        "    else:\n",
        "        tag = prediction(user_input, bag_of_words, weights, biases)\n",
        "        for intent in data['intents']:\n",
        "            if intent['tag'] == tag:\n",
        "                print(\"ChatBot:\", np.random.choice(intent['responses']))\n",
        "                break\n"
      ],
      "metadata": {
        "colab": {
          "base_uri": "https://localhost:8080/",
          "height": 182
        },
        "id": "eKi6edOPlTkD",
        "outputId": "a9a4f360-ffd8-4479-c81b-918c07222291"
      },
      "execution_count": null,
      "outputs": [
        {
          "output_type": "display_data",
          "data": {
            "text/plain": [
              "<IPython.core.display.HTML object>"
            ],
            "text/html": [
              "\n",
              "     <input type=\"file\" id=\"files-edd93fc3-ec69-49c9-9de0-dca38afd175a\" name=\"files[]\" multiple disabled\n",
              "        style=\"border:none\" />\n",
              "     <output id=\"result-edd93fc3-ec69-49c9-9de0-dca38afd175a\">\n",
              "      Upload widget is only available when the cell has been executed in the\n",
              "      current browser session. Please rerun this cell to enable.\n",
              "      </output>\n",
              "      <script>// Copyright 2017 Google LLC\n",
              "//\n",
              "// Licensed under the Apache License, Version 2.0 (the \"License\");\n",
              "// you may not use this file except in compliance with the License.\n",
              "// You may obtain a copy of the License at\n",
              "//\n",
              "//      http://www.apache.org/licenses/LICENSE-2.0\n",
              "//\n",
              "// Unless required by applicable law or agreed to in writing, software\n",
              "// distributed under the License is distributed on an \"AS IS\" BASIS,\n",
              "// WITHOUT WARRANTIES OR CONDITIONS OF ANY KIND, either express or implied.\n",
              "// See the License for the specific language governing permissions and\n",
              "// limitations under the License.\n",
              "\n",
              "/**\n",
              " * @fileoverview Helpers for google.colab Python module.\n",
              " */\n",
              "(function(scope) {\n",
              "function span(text, styleAttributes = {}) {\n",
              "  const element = document.createElement('span');\n",
              "  element.textContent = text;\n",
              "  for (const key of Object.keys(styleAttributes)) {\n",
              "    element.style[key] = styleAttributes[key];\n",
              "  }\n",
              "  return element;\n",
              "}\n",
              "\n",
              "// Max number of bytes which will be uploaded at a time.\n",
              "const MAX_PAYLOAD_SIZE = 100 * 1024;\n",
              "\n",
              "function _uploadFiles(inputId, outputId) {\n",
              "  const steps = uploadFilesStep(inputId, outputId);\n",
              "  const outputElement = document.getElementById(outputId);\n",
              "  // Cache steps on the outputElement to make it available for the next call\n",
              "  // to uploadFilesContinue from Python.\n",
              "  outputElement.steps = steps;\n",
              "\n",
              "  return _uploadFilesContinue(outputId);\n",
              "}\n",
              "\n",
              "// This is roughly an async generator (not supported in the browser yet),\n",
              "// where there are multiple asynchronous steps and the Python side is going\n",
              "// to poll for completion of each step.\n",
              "// This uses a Promise to block the python side on completion of each step,\n",
              "// then passes the result of the previous step as the input to the next step.\n",
              "function _uploadFilesContinue(outputId) {\n",
              "  const outputElement = document.getElementById(outputId);\n",
              "  const steps = outputElement.steps;\n",
              "\n",
              "  const next = steps.next(outputElement.lastPromiseValue);\n",
              "  return Promise.resolve(next.value.promise).then((value) => {\n",
              "    // Cache the last promise value to make it available to the next\n",
              "    // step of the generator.\n",
              "    outputElement.lastPromiseValue = value;\n",
              "    return next.value.response;\n",
              "  });\n",
              "}\n",
              "\n",
              "/**\n",
              " * Generator function which is called between each async step of the upload\n",
              " * process.\n",
              " * @param {string} inputId Element ID of the input file picker element.\n",
              " * @param {string} outputId Element ID of the output display.\n",
              " * @return {!Iterable<!Object>} Iterable of next steps.\n",
              " */\n",
              "function* uploadFilesStep(inputId, outputId) {\n",
              "  const inputElement = document.getElementById(inputId);\n",
              "  inputElement.disabled = false;\n",
              "\n",
              "  const outputElement = document.getElementById(outputId);\n",
              "  outputElement.innerHTML = '';\n",
              "\n",
              "  const pickedPromise = new Promise((resolve) => {\n",
              "    inputElement.addEventListener('change', (e) => {\n",
              "      resolve(e.target.files);\n",
              "    });\n",
              "  });\n",
              "\n",
              "  const cancel = document.createElement('button');\n",
              "  inputElement.parentElement.appendChild(cancel);\n",
              "  cancel.textContent = 'Cancel upload';\n",
              "  const cancelPromise = new Promise((resolve) => {\n",
              "    cancel.onclick = () => {\n",
              "      resolve(null);\n",
              "    };\n",
              "  });\n",
              "\n",
              "  // Wait for the user to pick the files.\n",
              "  const files = yield {\n",
              "    promise: Promise.race([pickedPromise, cancelPromise]),\n",
              "    response: {\n",
              "      action: 'starting',\n",
              "    }\n",
              "  };\n",
              "\n",
              "  cancel.remove();\n",
              "\n",
              "  // Disable the input element since further picks are not allowed.\n",
              "  inputElement.disabled = true;\n",
              "\n",
              "  if (!files) {\n",
              "    return {\n",
              "      response: {\n",
              "        action: 'complete',\n",
              "      }\n",
              "    };\n",
              "  }\n",
              "\n",
              "  for (const file of files) {\n",
              "    const li = document.createElement('li');\n",
              "    li.append(span(file.name, {fontWeight: 'bold'}));\n",
              "    li.append(span(\n",
              "        `(${file.type || 'n/a'}) - ${file.size} bytes, ` +\n",
              "        `last modified: ${\n",
              "            file.lastModifiedDate ? file.lastModifiedDate.toLocaleDateString() :\n",
              "                                    'n/a'} - `));\n",
              "    const percent = span('0% done');\n",
              "    li.appendChild(percent);\n",
              "\n",
              "    outputElement.appendChild(li);\n",
              "\n",
              "    const fileDataPromise = new Promise((resolve) => {\n",
              "      const reader = new FileReader();\n",
              "      reader.onload = (e) => {\n",
              "        resolve(e.target.result);\n",
              "      };\n",
              "      reader.readAsArrayBuffer(file);\n",
              "    });\n",
              "    // Wait for the data to be ready.\n",
              "    let fileData = yield {\n",
              "      promise: fileDataPromise,\n",
              "      response: {\n",
              "        action: 'continue',\n",
              "      }\n",
              "    };\n",
              "\n",
              "    // Use a chunked sending to avoid message size limits. See b/62115660.\n",
              "    let position = 0;\n",
              "    do {\n",
              "      const length = Math.min(fileData.byteLength - position, MAX_PAYLOAD_SIZE);\n",
              "      const chunk = new Uint8Array(fileData, position, length);\n",
              "      position += length;\n",
              "\n",
              "      const base64 = btoa(String.fromCharCode.apply(null, chunk));\n",
              "      yield {\n",
              "        response: {\n",
              "          action: 'append',\n",
              "          file: file.name,\n",
              "          data: base64,\n",
              "        },\n",
              "      };\n",
              "\n",
              "      let percentDone = fileData.byteLength === 0 ?\n",
              "          100 :\n",
              "          Math.round((position / fileData.byteLength) * 100);\n",
              "      percent.textContent = `${percentDone}% done`;\n",
              "\n",
              "    } while (position < fileData.byteLength);\n",
              "  }\n",
              "\n",
              "  // All done.\n",
              "  yield {\n",
              "    response: {\n",
              "      action: 'complete',\n",
              "    }\n",
              "  };\n",
              "}\n",
              "\n",
              "scope.google = scope.google || {};\n",
              "scope.google.colab = scope.google.colab || {};\n",
              "scope.google.colab._files = {\n",
              "  _uploadFiles,\n",
              "  _uploadFilesContinue,\n",
              "};\n",
              "})(self);\n",
              "</script> "
            ]
          },
          "metadata": {}
        },
        {
          "name": "stdout",
          "output_type": "stream",
          "# demo\n",
          "text": [
            "Saving intents.json to intents (2).json\n",
            "Enter batch size: 32\n",
            "You: hello\n",
            "ChatBot: Hello there. Tell me how are you feeling today?\n",
            "You: i am feeling lonely\n",
            "ChatBot: How long have you been feeling this way?\n",
            "You: exit\n"
          ]
        }
      ]
    }
  ]
}
